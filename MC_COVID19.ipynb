{
 "cells": [
  {
   "cell_type": "code",
   "execution_count": 9,
   "id": "initial_id",
   "metadata": {
    "collapsed": true,
    "ExecuteTime": {
     "end_time": "2023-10-29T19:08:43.067102400Z",
     "start_time": "2023-10-29T19:08:42.999229Z"
    }
   },
   "outputs": [],
   "source": [
    "import pandas as pd\n",
    "import zipfile\n",
    "from tqdm import tqdm\n",
    "import os"
   ]
  },
  {
   "cell_type": "code",
   "execution_count": 10,
   "outputs": [
    {
     "name": "stderr",
     "output_type": "stream",
     "text": [
      "100%|██████████| 1143/1143 [00:18<00:00, 62.64it/s]\n"
     ]
    },
    {
     "name": "stdout",
     "output_type": "stream",
     "text": [
      "2222.0618209838867 MB\n"
     ]
    }
   ],
   "source": [
    "# Pfad zum ZIP-Ordner\n",
    "zip_path = './data/csse_covid_19_daily_reports.zip'\n",
    "\n",
    "# Liste der CSV-Dateien im ZIP-Ordner erstellen\n",
    "with zipfile.ZipFile(zip_path, 'r') as z:\n",
    "    csv_files = [f for f in z.namelist() if f.endswith('.csv')]\n",
    "    \n",
    "# Dataframes aus den CSV-Dateien einlesen\n",
    "# dfs = []\n",
    "# for file in tqdm(csv_files):\n",
    "#     with zipfile.ZipFile(zip_path, 'r') as z:\n",
    "#         with z.open(file) as f:\n",
    "#             df = pd.read_csv(f)\n",
    "#             # df['Date'] = file[:-4] # Dateiname ohne .csv-Endung\n",
    "#             # Dateiname ohne Pfad und .csv-Endung extrahieren und in ein Datumsformat umwandeln\n",
    "#             df['Date'] = pd.to_datetime(os.path.basename(file)[:-4])\n",
    "#             dfs.append(df)\n",
    "            \n",
    "dfs = [\n",
    "    pd.read_csv(z.open(file)).assign(Date=pd.to_datetime(os.path.basename(file)[:-4]))\n",
    "    for file in tqdm(csv_files)\n",
    "    for z in [zipfile.ZipFile(zip_path, 'r')]\n",
    "]\n",
    "\n",
    "        \n",
    "#Zusammenführen der Dataframes\n",
    "final_df = pd.concat(dfs, ignore_index=True)\n",
    "\n",
    "# Grösse des Dataframes in MB ausgeben\n",
    "print(final_df.memory_usage(deep=True).sum() / (1024**2), \"MB\")"
   ],
   "metadata": {
    "collapsed": false,
    "ExecuteTime": {
     "end_time": "2023-10-29T19:09:18.880284300Z",
     "start_time": "2023-10-29T19:08:43.018590100Z"
    }
   },
   "id": "5af8c0a67acd8df6"
  },
  {
   "cell_type": "code",
   "execution_count": 11,
   "outputs": [
    {
     "data": {
      "text/plain": "   FIPS Admin2 Province_State Country_Region          Last_Update       Lat  \\\n0   NaN    NaN            NaN    Afghanistan  2021-01-02 05:22:33  33.93911   \n1   NaN    NaN            NaN        Albania  2021-01-02 05:22:33  41.15330   \n2   NaN    NaN            NaN        Algeria  2021-01-02 05:22:33  28.03390   \n3   NaN    NaN            NaN        Andorra  2021-01-02 05:22:33  42.50630   \n4   NaN    NaN            NaN         Angola  2021-01-02 05:22:33 -11.20270   \n\n       Long_  Confirmed  Deaths  Recovered  ...  Incident_Rate  \\\n0  67.709953    52513.0  2201.0    41727.0  ...     134.896578   \n1  20.168300    58316.0  1181.0    33634.0  ...    2026.409062   \n2   1.659600    99897.0  2762.0    67395.0  ...     227.809861   \n3   1.521800     8117.0    84.0     7463.0  ...   10505.403482   \n4  17.873900    17568.0   405.0    11146.0  ...      53.452981   \n\n  Case_Fatality_Ratio       Date  Province/State Country/Region Last Update  \\\n0            4.191343 2021-01-01             NaN            NaN         NaN   \n1            2.025173 2021-01-01             NaN            NaN         NaN   \n2            2.764848 2021-01-01             NaN            NaN         NaN   \n3            1.034865 2021-01-01             NaN            NaN         NaN   \n4            2.305328 2021-01-01             NaN            NaN         NaN   \n\n  Latitude Longitude  Incidence_Rate  Case-Fatality_Ratio  \n0      NaN       NaN             NaN                  NaN  \n1      NaN       NaN             NaN                  NaN  \n2      NaN       NaN             NaN                  NaN  \n3      NaN       NaN             NaN                  NaN  \n4      NaN       NaN             NaN                  NaN  \n\n[5 rows x 22 columns]",
      "text/html": "<div>\n<style scoped>\n    .dataframe tbody tr th:only-of-type {\n        vertical-align: middle;\n    }\n\n    .dataframe tbody tr th {\n        vertical-align: top;\n    }\n\n    .dataframe thead th {\n        text-align: right;\n    }\n</style>\n<table border=\"1\" class=\"dataframe\">\n  <thead>\n    <tr style=\"text-align: right;\">\n      <th></th>\n      <th>FIPS</th>\n      <th>Admin2</th>\n      <th>Province_State</th>\n      <th>Country_Region</th>\n      <th>Last_Update</th>\n      <th>Lat</th>\n      <th>Long_</th>\n      <th>Confirmed</th>\n      <th>Deaths</th>\n      <th>Recovered</th>\n      <th>...</th>\n      <th>Incident_Rate</th>\n      <th>Case_Fatality_Ratio</th>\n      <th>Date</th>\n      <th>Province/State</th>\n      <th>Country/Region</th>\n      <th>Last Update</th>\n      <th>Latitude</th>\n      <th>Longitude</th>\n      <th>Incidence_Rate</th>\n      <th>Case-Fatality_Ratio</th>\n    </tr>\n  </thead>\n  <tbody>\n    <tr>\n      <th>0</th>\n      <td>NaN</td>\n      <td>NaN</td>\n      <td>NaN</td>\n      <td>Afghanistan</td>\n      <td>2021-01-02 05:22:33</td>\n      <td>33.93911</td>\n      <td>67.709953</td>\n      <td>52513.0</td>\n      <td>2201.0</td>\n      <td>41727.0</td>\n      <td>...</td>\n      <td>134.896578</td>\n      <td>4.191343</td>\n      <td>2021-01-01</td>\n      <td>NaN</td>\n      <td>NaN</td>\n      <td>NaN</td>\n      <td>NaN</td>\n      <td>NaN</td>\n      <td>NaN</td>\n      <td>NaN</td>\n    </tr>\n    <tr>\n      <th>1</th>\n      <td>NaN</td>\n      <td>NaN</td>\n      <td>NaN</td>\n      <td>Albania</td>\n      <td>2021-01-02 05:22:33</td>\n      <td>41.15330</td>\n      <td>20.168300</td>\n      <td>58316.0</td>\n      <td>1181.0</td>\n      <td>33634.0</td>\n      <td>...</td>\n      <td>2026.409062</td>\n      <td>2.025173</td>\n      <td>2021-01-01</td>\n      <td>NaN</td>\n      <td>NaN</td>\n      <td>NaN</td>\n      <td>NaN</td>\n      <td>NaN</td>\n      <td>NaN</td>\n      <td>NaN</td>\n    </tr>\n    <tr>\n      <th>2</th>\n      <td>NaN</td>\n      <td>NaN</td>\n      <td>NaN</td>\n      <td>Algeria</td>\n      <td>2021-01-02 05:22:33</td>\n      <td>28.03390</td>\n      <td>1.659600</td>\n      <td>99897.0</td>\n      <td>2762.0</td>\n      <td>67395.0</td>\n      <td>...</td>\n      <td>227.809861</td>\n      <td>2.764848</td>\n      <td>2021-01-01</td>\n      <td>NaN</td>\n      <td>NaN</td>\n      <td>NaN</td>\n      <td>NaN</td>\n      <td>NaN</td>\n      <td>NaN</td>\n      <td>NaN</td>\n    </tr>\n    <tr>\n      <th>3</th>\n      <td>NaN</td>\n      <td>NaN</td>\n      <td>NaN</td>\n      <td>Andorra</td>\n      <td>2021-01-02 05:22:33</td>\n      <td>42.50630</td>\n      <td>1.521800</td>\n      <td>8117.0</td>\n      <td>84.0</td>\n      <td>7463.0</td>\n      <td>...</td>\n      <td>10505.403482</td>\n      <td>1.034865</td>\n      <td>2021-01-01</td>\n      <td>NaN</td>\n      <td>NaN</td>\n      <td>NaN</td>\n      <td>NaN</td>\n      <td>NaN</td>\n      <td>NaN</td>\n      <td>NaN</td>\n    </tr>\n    <tr>\n      <th>4</th>\n      <td>NaN</td>\n      <td>NaN</td>\n      <td>NaN</td>\n      <td>Angola</td>\n      <td>2021-01-02 05:22:33</td>\n      <td>-11.20270</td>\n      <td>17.873900</td>\n      <td>17568.0</td>\n      <td>405.0</td>\n      <td>11146.0</td>\n      <td>...</td>\n      <td>53.452981</td>\n      <td>2.305328</td>\n      <td>2021-01-01</td>\n      <td>NaN</td>\n      <td>NaN</td>\n      <td>NaN</td>\n      <td>NaN</td>\n      <td>NaN</td>\n      <td>NaN</td>\n      <td>NaN</td>\n    </tr>\n  </tbody>\n</table>\n<p>5 rows × 22 columns</p>\n</div>"
     },
     "execution_count": 11,
     "metadata": {},
     "output_type": "execute_result"
    }
   ],
   "source": [
    "# Eingelesene Dateien anzeigen\n",
    "final_df.head()"
   ],
   "metadata": {
    "collapsed": false,
    "ExecuteTime": {
     "end_time": "2023-10-29T19:09:18.923854800Z",
     "start_time": "2023-10-29T19:09:18.884723Z"
    }
   },
   "id": "adfcda92ef70a1f8"
  },
  {
   "cell_type": "code",
   "execution_count": 12,
   "outputs": [
    {
     "data": {
      "text/plain": "         FIPS Admin2 Province_State        Country_Region  \\\n4287468   NaN    NaN            NaN    West Bank and Gaza   \n4287469   NaN    NaN            NaN  Winter Olympics 2022   \n4287470   NaN    NaN            NaN                 Yemen   \n4287471   NaN    NaN            NaN                Zambia   \n4287472   NaN    NaN            NaN              Zimbabwe   \n\n                 Last_Update        Lat       Long_  Confirmed  Deaths  \\\n4287468  2023-01-01 04:21:00  31.952200   35.233200   703228.0  5708.0   \n4287469  2023-01-01 04:21:00  39.904200  116.407400      535.0     0.0   \n4287470  2023-01-01 04:21:00  15.552727   48.516388    11945.0  2159.0   \n4287471  2023-01-01 04:21:00 -13.133897   27.849332   334425.0  4024.0   \n4287472  2023-01-01 04:21:00 -19.015438   29.154857   259981.0  5637.0   \n\n         Recovered  ...  Incident_Rate Case_Fatality_Ratio       Date  \\\n4287468        NaN  ...   13784.956961            0.811686 2022-12-31   \n4287469        NaN  ...            NaN            0.000000 2022-12-31   \n4287470        NaN  ...      40.048994           18.074508 2022-12-31   \n4287471        NaN  ...    1819.113362            1.203259 2022-12-31   \n4287472        NaN  ...    1749.191125            2.168235 2022-12-31   \n\n         Province/State Country/Region Last Update Latitude Longitude  \\\n4287468             NaN            NaN         NaN      NaN       NaN   \n4287469             NaN            NaN         NaN      NaN       NaN   \n4287470             NaN            NaN         NaN      NaN       NaN   \n4287471             NaN            NaN         NaN      NaN       NaN   \n4287472             NaN            NaN         NaN      NaN       NaN   \n\n         Incidence_Rate  Case-Fatality_Ratio  \n4287468             NaN                  NaN  \n4287469             NaN                  NaN  \n4287470             NaN                  NaN  \n4287471             NaN                  NaN  \n4287472             NaN                  NaN  \n\n[5 rows x 22 columns]",
      "text/html": "<div>\n<style scoped>\n    .dataframe tbody tr th:only-of-type {\n        vertical-align: middle;\n    }\n\n    .dataframe tbody tr th {\n        vertical-align: top;\n    }\n\n    .dataframe thead th {\n        text-align: right;\n    }\n</style>\n<table border=\"1\" class=\"dataframe\">\n  <thead>\n    <tr style=\"text-align: right;\">\n      <th></th>\n      <th>FIPS</th>\n      <th>Admin2</th>\n      <th>Province_State</th>\n      <th>Country_Region</th>\n      <th>Last_Update</th>\n      <th>Lat</th>\n      <th>Long_</th>\n      <th>Confirmed</th>\n      <th>Deaths</th>\n      <th>Recovered</th>\n      <th>...</th>\n      <th>Incident_Rate</th>\n      <th>Case_Fatality_Ratio</th>\n      <th>Date</th>\n      <th>Province/State</th>\n      <th>Country/Region</th>\n      <th>Last Update</th>\n      <th>Latitude</th>\n      <th>Longitude</th>\n      <th>Incidence_Rate</th>\n      <th>Case-Fatality_Ratio</th>\n    </tr>\n  </thead>\n  <tbody>\n    <tr>\n      <th>4287468</th>\n      <td>NaN</td>\n      <td>NaN</td>\n      <td>NaN</td>\n      <td>West Bank and Gaza</td>\n      <td>2023-01-01 04:21:00</td>\n      <td>31.952200</td>\n      <td>35.233200</td>\n      <td>703228.0</td>\n      <td>5708.0</td>\n      <td>NaN</td>\n      <td>...</td>\n      <td>13784.956961</td>\n      <td>0.811686</td>\n      <td>2022-12-31</td>\n      <td>NaN</td>\n      <td>NaN</td>\n      <td>NaN</td>\n      <td>NaN</td>\n      <td>NaN</td>\n      <td>NaN</td>\n      <td>NaN</td>\n    </tr>\n    <tr>\n      <th>4287469</th>\n      <td>NaN</td>\n      <td>NaN</td>\n      <td>NaN</td>\n      <td>Winter Olympics 2022</td>\n      <td>2023-01-01 04:21:00</td>\n      <td>39.904200</td>\n      <td>116.407400</td>\n      <td>535.0</td>\n      <td>0.0</td>\n      <td>NaN</td>\n      <td>...</td>\n      <td>NaN</td>\n      <td>0.000000</td>\n      <td>2022-12-31</td>\n      <td>NaN</td>\n      <td>NaN</td>\n      <td>NaN</td>\n      <td>NaN</td>\n      <td>NaN</td>\n      <td>NaN</td>\n      <td>NaN</td>\n    </tr>\n    <tr>\n      <th>4287470</th>\n      <td>NaN</td>\n      <td>NaN</td>\n      <td>NaN</td>\n      <td>Yemen</td>\n      <td>2023-01-01 04:21:00</td>\n      <td>15.552727</td>\n      <td>48.516388</td>\n      <td>11945.0</td>\n      <td>2159.0</td>\n      <td>NaN</td>\n      <td>...</td>\n      <td>40.048994</td>\n      <td>18.074508</td>\n      <td>2022-12-31</td>\n      <td>NaN</td>\n      <td>NaN</td>\n      <td>NaN</td>\n      <td>NaN</td>\n      <td>NaN</td>\n      <td>NaN</td>\n      <td>NaN</td>\n    </tr>\n    <tr>\n      <th>4287471</th>\n      <td>NaN</td>\n      <td>NaN</td>\n      <td>NaN</td>\n      <td>Zambia</td>\n      <td>2023-01-01 04:21:00</td>\n      <td>-13.133897</td>\n      <td>27.849332</td>\n      <td>334425.0</td>\n      <td>4024.0</td>\n      <td>NaN</td>\n      <td>...</td>\n      <td>1819.113362</td>\n      <td>1.203259</td>\n      <td>2022-12-31</td>\n      <td>NaN</td>\n      <td>NaN</td>\n      <td>NaN</td>\n      <td>NaN</td>\n      <td>NaN</td>\n      <td>NaN</td>\n      <td>NaN</td>\n    </tr>\n    <tr>\n      <th>4287472</th>\n      <td>NaN</td>\n      <td>NaN</td>\n      <td>NaN</td>\n      <td>Zimbabwe</td>\n      <td>2023-01-01 04:21:00</td>\n      <td>-19.015438</td>\n      <td>29.154857</td>\n      <td>259981.0</td>\n      <td>5637.0</td>\n      <td>NaN</td>\n      <td>...</td>\n      <td>1749.191125</td>\n      <td>2.168235</td>\n      <td>2022-12-31</td>\n      <td>NaN</td>\n      <td>NaN</td>\n      <td>NaN</td>\n      <td>NaN</td>\n      <td>NaN</td>\n      <td>NaN</td>\n      <td>NaN</td>\n    </tr>\n  </tbody>\n</table>\n<p>5 rows × 22 columns</p>\n</div>"
     },
     "execution_count": 12,
     "metadata": {},
     "output_type": "execute_result"
    }
   ],
   "source": [
    "final_df.tail()"
   ],
   "metadata": {
    "collapsed": false,
    "ExecuteTime": {
     "end_time": "2023-10-29T19:09:18.948945200Z",
     "start_time": "2023-10-29T19:09:18.937218200Z"
    }
   },
   "id": "553f45cd2c7572f"
  },
  {
   "cell_type": "code",
   "execution_count": 13,
   "outputs": [
    {
     "data": {
      "text/plain": "               FIPS           Lat         Long_     Confirmed        Deaths  \\\ncount  3.500605e+06  4.183379e+06  4.183379e+06  4.287445e+06  4.287040e+06   \nmean   3.228877e+04  3.577816e+01 -7.160353e+01  7.391675e+04  1.030858e+03   \nmin    6.000000e+01 -7.194990e+01 -1.781165e+02 -3.028440e+05 -1.780000e+02   \n25%    1.904100e+04  3.321928e+01 -9.657264e+01  7.870000e+02  1.100000e+01   \n50%    3.005700e+04  3.789202e+01 -8.684518e+01  3.713000e+03  5.700000e+01   \n75%    4.702900e+04  4.213299e+01 -7.758680e+01  1.594200e+04  2.220000e+02   \nmax    9.999900e+04  7.170690e+01  1.780650e+02  3.861851e+07  1.861380e+05   \nstd    1.794419e+04  1.330024e+01  5.474829e+01  5.850164e+05  6.403964e+03   \n\n          Recovered        Active  Incident_Rate  Case_Fatality_Ratio  \\\ncount  1.459033e+06  1.449620e+06   3.338655e+06         3.379940e+06   \nmean   1.615205e+04  7.469313e+03   1.700870e+04         2.749843e+00   \nmin   -8.544050e+05  0.000000e+00   0.000000e+00         0.000000e+00   \n25%    0.000000e+00  5.300000e+01   8.416711e+03         1.002141e+00   \n50%    0.000000e+00  4.590000e+02   1.523832e+04         1.479933e+00   \n75%    0.000000e+00  2.219000e+03   2.554554e+04         2.089687e+00   \nmax    6.399531e+06  5.658278e+06   2.164022e+06         2.960000e+04   \nstd    1.330592e+05  7.888413e+04   1.106973e+04         6.566548e+01   \n\n                                Date     Latitude    Longitude  \\\ncount                        4287473  5492.000000  5492.000000   \nmean   2021-09-20 21:44:20.716090624    26.743089    11.701253   \nmin              2020-01-22 00:00:00   -71.949900  -175.198200   \n25%              2020-12-29 00:00:00    12.879700   -73.936000   \n50%              2021-09-22 00:00:00    33.882000    15.200000   \n75%              2022-06-16 00:00:00    42.506300   101.942400   \nmax              2023-03-09 00:00:00    72.000000   178.065000   \nstd                              NaN    23.589065    88.202145   \n\n       Incidence_Rate  Case-Fatality_Ratio  \ncount   630067.000000        633552.000000  \nmean      1206.610504             2.731899  \nmin          0.000000             0.000000  \n25%        237.369631             0.365356  \n50%        722.714117             1.573427  \n75%       1707.893004             3.367876  \nmax      18082.002457          5500.000000  \nstd       1390.766749            19.261965  ",
      "text/html": "<div>\n<style scoped>\n    .dataframe tbody tr th:only-of-type {\n        vertical-align: middle;\n    }\n\n    .dataframe tbody tr th {\n        vertical-align: top;\n    }\n\n    .dataframe thead th {\n        text-align: right;\n    }\n</style>\n<table border=\"1\" class=\"dataframe\">\n  <thead>\n    <tr style=\"text-align: right;\">\n      <th></th>\n      <th>FIPS</th>\n      <th>Lat</th>\n      <th>Long_</th>\n      <th>Confirmed</th>\n      <th>Deaths</th>\n      <th>Recovered</th>\n      <th>Active</th>\n      <th>Incident_Rate</th>\n      <th>Case_Fatality_Ratio</th>\n      <th>Date</th>\n      <th>Latitude</th>\n      <th>Longitude</th>\n      <th>Incidence_Rate</th>\n      <th>Case-Fatality_Ratio</th>\n    </tr>\n  </thead>\n  <tbody>\n    <tr>\n      <th>count</th>\n      <td>3.500605e+06</td>\n      <td>4.183379e+06</td>\n      <td>4.183379e+06</td>\n      <td>4.287445e+06</td>\n      <td>4.287040e+06</td>\n      <td>1.459033e+06</td>\n      <td>1.449620e+06</td>\n      <td>3.338655e+06</td>\n      <td>3.379940e+06</td>\n      <td>4287473</td>\n      <td>5492.000000</td>\n      <td>5492.000000</td>\n      <td>630067.000000</td>\n      <td>633552.000000</td>\n    </tr>\n    <tr>\n      <th>mean</th>\n      <td>3.228877e+04</td>\n      <td>3.577816e+01</td>\n      <td>-7.160353e+01</td>\n      <td>7.391675e+04</td>\n      <td>1.030858e+03</td>\n      <td>1.615205e+04</td>\n      <td>7.469313e+03</td>\n      <td>1.700870e+04</td>\n      <td>2.749843e+00</td>\n      <td>2021-09-20 21:44:20.716090624</td>\n      <td>26.743089</td>\n      <td>11.701253</td>\n      <td>1206.610504</td>\n      <td>2.731899</td>\n    </tr>\n    <tr>\n      <th>min</th>\n      <td>6.000000e+01</td>\n      <td>-7.194990e+01</td>\n      <td>-1.781165e+02</td>\n      <td>-3.028440e+05</td>\n      <td>-1.780000e+02</td>\n      <td>-8.544050e+05</td>\n      <td>0.000000e+00</td>\n      <td>0.000000e+00</td>\n      <td>0.000000e+00</td>\n      <td>2020-01-22 00:00:00</td>\n      <td>-71.949900</td>\n      <td>-175.198200</td>\n      <td>0.000000</td>\n      <td>0.000000</td>\n    </tr>\n    <tr>\n      <th>25%</th>\n      <td>1.904100e+04</td>\n      <td>3.321928e+01</td>\n      <td>-9.657264e+01</td>\n      <td>7.870000e+02</td>\n      <td>1.100000e+01</td>\n      <td>0.000000e+00</td>\n      <td>5.300000e+01</td>\n      <td>8.416711e+03</td>\n      <td>1.002141e+00</td>\n      <td>2020-12-29 00:00:00</td>\n      <td>12.879700</td>\n      <td>-73.936000</td>\n      <td>237.369631</td>\n      <td>0.365356</td>\n    </tr>\n    <tr>\n      <th>50%</th>\n      <td>3.005700e+04</td>\n      <td>3.789202e+01</td>\n      <td>-8.684518e+01</td>\n      <td>3.713000e+03</td>\n      <td>5.700000e+01</td>\n      <td>0.000000e+00</td>\n      <td>4.590000e+02</td>\n      <td>1.523832e+04</td>\n      <td>1.479933e+00</td>\n      <td>2021-09-22 00:00:00</td>\n      <td>33.882000</td>\n      <td>15.200000</td>\n      <td>722.714117</td>\n      <td>1.573427</td>\n    </tr>\n    <tr>\n      <th>75%</th>\n      <td>4.702900e+04</td>\n      <td>4.213299e+01</td>\n      <td>-7.758680e+01</td>\n      <td>1.594200e+04</td>\n      <td>2.220000e+02</td>\n      <td>0.000000e+00</td>\n      <td>2.219000e+03</td>\n      <td>2.554554e+04</td>\n      <td>2.089687e+00</td>\n      <td>2022-06-16 00:00:00</td>\n      <td>42.506300</td>\n      <td>101.942400</td>\n      <td>1707.893004</td>\n      <td>3.367876</td>\n    </tr>\n    <tr>\n      <th>max</th>\n      <td>9.999900e+04</td>\n      <td>7.170690e+01</td>\n      <td>1.780650e+02</td>\n      <td>3.861851e+07</td>\n      <td>1.861380e+05</td>\n      <td>6.399531e+06</td>\n      <td>5.658278e+06</td>\n      <td>2.164022e+06</td>\n      <td>2.960000e+04</td>\n      <td>2023-03-09 00:00:00</td>\n      <td>72.000000</td>\n      <td>178.065000</td>\n      <td>18082.002457</td>\n      <td>5500.000000</td>\n    </tr>\n    <tr>\n      <th>std</th>\n      <td>1.794419e+04</td>\n      <td>1.330024e+01</td>\n      <td>5.474829e+01</td>\n      <td>5.850164e+05</td>\n      <td>6.403964e+03</td>\n      <td>1.330592e+05</td>\n      <td>7.888413e+04</td>\n      <td>1.106973e+04</td>\n      <td>6.566548e+01</td>\n      <td>NaN</td>\n      <td>23.589065</td>\n      <td>88.202145</td>\n      <td>1390.766749</td>\n      <td>19.261965</td>\n    </tr>\n  </tbody>\n</table>\n</div>"
     },
     "execution_count": 13,
     "metadata": {},
     "output_type": "execute_result"
    }
   ],
   "source": [
    "final_df.describe()"
   ],
   "metadata": {
    "collapsed": false,
    "ExecuteTime": {
     "end_time": "2023-10-29T19:09:22.273905100Z",
     "start_time": "2023-10-29T19:09:18.941745300Z"
    }
   },
   "id": "c8e1b8166e8ec0e6"
  },
  {
   "cell_type": "code",
   "execution_count": 14,
   "outputs": [
    {
     "name": "stdout",
     "output_type": "stream",
     "text": [
      "<class 'pandas.core.frame.DataFrame'>\n",
      "RangeIndex: 4287473 entries, 0 to 4287472\n",
      "Data columns (total 22 columns):\n",
      " #   Column               Dtype         \n",
      "---  ------               -----         \n",
      " 0   FIPS                 float64       \n",
      " 1   Admin2               object        \n",
      " 2   Province_State       object        \n",
      " 3   Country_Region       object        \n",
      " 4   Last_Update          object        \n",
      " 5   Lat                  float64       \n",
      " 6   Long_                float64       \n",
      " 7   Confirmed            float64       \n",
      " 8   Deaths               float64       \n",
      " 9   Recovered            float64       \n",
      " 10  Active               float64       \n",
      " 11  Combined_Key         object        \n",
      " 12  Incident_Rate        float64       \n",
      " 13  Case_Fatality_Ratio  float64       \n",
      " 14  Date                 datetime64[ns]\n",
      " 15  Province/State       object        \n",
      " 16  Country/Region       object        \n",
      " 17  Last Update          object        \n",
      " 18  Latitude             float64       \n",
      " 19  Longitude            float64       \n",
      " 20  Incidence_Rate       float64       \n",
      " 21  Case-Fatality_Ratio  float64       \n",
      "dtypes: datetime64[ns](1), float64(13), object(8)\n",
      "memory usage: 719.6+ MB\n"
     ]
    }
   ],
   "source": [
    "final_df.info()"
   ],
   "metadata": {
    "collapsed": false,
    "ExecuteTime": {
     "end_time": "2023-10-29T19:09:22.282806100Z",
     "start_time": "2023-10-29T19:09:22.267973100Z"
    }
   },
   "id": "a869f24018038498"
  },
  {
   "cell_type": "code",
   "execution_count": 15,
   "outputs": [
    {
     "name": "stdout",
     "output_type": "stream",
     "text": [
      "866.34130859375 MB\n"
     ]
    }
   ],
   "source": [
    "# Subset erstellen mit den Spalten Date, Province_State, Country_Region, Province/State, Country/Region, Confirmed, Deaths\n",
    "subset_df = final_df.iloc[:, [14,3,16,2,15,7,8]]\n",
    "print(subset_df.memory_usage(deep=True).sum() / (1024**2), \"MB\")"
   ],
   "metadata": {
    "collapsed": false,
    "ExecuteTime": {
     "end_time": "2023-10-29T19:09:23.967626900Z",
     "start_time": "2023-10-29T19:09:22.282806100Z"
    }
   },
   "id": "ec41e1de4eec0563"
  },
  {
   "cell_type": "code",
   "execution_count": 16,
   "outputs": [
    {
     "data": {
      "text/plain": "        Date Country_Region Country/Region Province_State Province/State  \\\n0 2021-01-01    Afghanistan            NaN            NaN            NaN   \n1 2021-01-01        Albania            NaN            NaN            NaN   \n2 2021-01-01        Algeria            NaN            NaN            NaN   \n3 2021-01-01        Andorra            NaN            NaN            NaN   \n4 2021-01-01         Angola            NaN            NaN            NaN   \n\n   Confirmed  Deaths  \n0    52513.0  2201.0  \n1    58316.0  1181.0  \n2    99897.0  2762.0  \n3     8117.0    84.0  \n4    17568.0   405.0  ",
      "text/html": "<div>\n<style scoped>\n    .dataframe tbody tr th:only-of-type {\n        vertical-align: middle;\n    }\n\n    .dataframe tbody tr th {\n        vertical-align: top;\n    }\n\n    .dataframe thead th {\n        text-align: right;\n    }\n</style>\n<table border=\"1\" class=\"dataframe\">\n  <thead>\n    <tr style=\"text-align: right;\">\n      <th></th>\n      <th>Date</th>\n      <th>Country_Region</th>\n      <th>Country/Region</th>\n      <th>Province_State</th>\n      <th>Province/State</th>\n      <th>Confirmed</th>\n      <th>Deaths</th>\n    </tr>\n  </thead>\n  <tbody>\n    <tr>\n      <th>0</th>\n      <td>2021-01-01</td>\n      <td>Afghanistan</td>\n      <td>NaN</td>\n      <td>NaN</td>\n      <td>NaN</td>\n      <td>52513.0</td>\n      <td>2201.0</td>\n    </tr>\n    <tr>\n      <th>1</th>\n      <td>2021-01-01</td>\n      <td>Albania</td>\n      <td>NaN</td>\n      <td>NaN</td>\n      <td>NaN</td>\n      <td>58316.0</td>\n      <td>1181.0</td>\n    </tr>\n    <tr>\n      <th>2</th>\n      <td>2021-01-01</td>\n      <td>Algeria</td>\n      <td>NaN</td>\n      <td>NaN</td>\n      <td>NaN</td>\n      <td>99897.0</td>\n      <td>2762.0</td>\n    </tr>\n    <tr>\n      <th>3</th>\n      <td>2021-01-01</td>\n      <td>Andorra</td>\n      <td>NaN</td>\n      <td>NaN</td>\n      <td>NaN</td>\n      <td>8117.0</td>\n      <td>84.0</td>\n    </tr>\n    <tr>\n      <th>4</th>\n      <td>2021-01-01</td>\n      <td>Angola</td>\n      <td>NaN</td>\n      <td>NaN</td>\n      <td>NaN</td>\n      <td>17568.0</td>\n      <td>405.0</td>\n    </tr>\n  </tbody>\n</table>\n</div>"
     },
     "execution_count": 16,
     "metadata": {},
     "output_type": "execute_result"
    }
   ],
   "source": [
    "subset_df.head()"
   ],
   "metadata": {
    "collapsed": false,
    "ExecuteTime": {
     "end_time": "2023-10-29T19:09:24.015707400Z",
     "start_time": "2023-10-29T19:09:23.968634800Z"
    }
   },
   "id": "5313543396475c8"
  },
  {
   "cell_type": "code",
   "execution_count": 19,
   "outputs": [],
   "source": [
    "# das gekürzte Data Frame als csv speichern\n",
    "subset_df.to_csv('COVID19_SHORT.csv', sep=',', header=True, index=False, quotechar='\"', na_rep='NA')"
   ],
   "metadata": {
    "collapsed": false,
    "ExecuteTime": {
     "end_time": "2023-10-29T19:27:15.435270Z",
     "start_time": "2023-10-29T19:27:07.236660500Z"
    }
   },
   "id": "ebb7e769173da695"
  }
 ],
 "metadata": {
  "kernelspec": {
   "display_name": "Python 3",
   "language": "python",
   "name": "python3"
  },
  "language_info": {
   "codemirror_mode": {
    "name": "ipython",
    "version": 2
   },
   "file_extension": ".py",
   "mimetype": "text/x-python",
   "name": "python",
   "nbconvert_exporter": "python",
   "pygments_lexer": "ipython2",
   "version": "2.7.6"
  }
 },
 "nbformat": 4,
 "nbformat_minor": 5
}
